{
 "cells": [
  {
   "cell_type": "markdown",
   "id": "d698b9a7",
   "metadata": {},
   "source": [
    "# A Guided Exploration of UN Data (Gross Domestic Product and Internet Usage"
   ]
  },
  {
   "cell_type": "markdown",
   "id": "e0544810",
   "metadata": {},
   "source": [
    "**1.** Create a `data` folder in your local project repository.\n",
    "\n",
    "**2.** Download these two CSV files and place them in the data folder:\n",
    "- Gross Domestic Product (GDP) per capita http://data.un.org/Data.aspx?d=WDI&f=Indicator_Code%3aNY.GDP.PCAP.PP.KD **DO NOT APPLY ANY FILTERS**\n",
    "     - Rename the file to `gdp_percapita.csv`\n",
    "     - Open it with a text editor (**not excel**) and take a look\n",
    "- Percentage of Individuals using the Internet http://data.un.org/Data.aspx?d=ITU&f=ind1Code%3aI99H  **DO NOT APPLY ANY FILTERS**\n",
    "     - Rename the file to `internet_use.csv`\n",
    "     - Open it with a text editor (**not excel**) and take a look\n",
    "\n",
    "**2.** Create a `notebooks` folder and launch a Jupyter Notebook in this folder. Give it a meaningful name.\n",
    "- **IMPORTANT:**  You are likely to get errors along the way. When you do, read the errors to try to understand what is happening and how to correct it.\n",
    "- Use markdown cells to record your answers to any questions asked in this exercise. On the menu bar, you can toggle the cell type from `Code` to `Markdown`.\n",
    "\n",
    "**3.** Import pandas, numpy, matplotlib.pyplot, and seaborn:"
   ]
  },
  {
   "cell_type": "code",
   "execution_count": null,
   "id": "734bad61",
   "metadata": {},
   "outputs": [],
   "source": [
    "import pandas as pd  \n",
    "import numpy as np\n",
    "import matplotlib.pyplot as plt\n",
    "import seaborn as sns"
   ]
  },
  {
   "cell_type": "markdown",
   "id": "d983ab71",
   "metadata": {},
   "source": [
    "**4.** Read in the GDP dataset and look at the first few rows."
   ]
  },
  {
   "cell_type": "code",
   "execution_count": null,
   "id": "045cf00e",
   "metadata": {},
   "outputs": [],
   "source": [
    "gdp_df = pd.read_csv('../data/gdp_percapita.csv')\n",
    "gdp_df.head()"
   ]
  },
  {
   "cell_type": "markdown",
   "id": "b890f11d",
   "metadata": {},
   "source": [
    "**5.** How many rows and columns are in `gdp_df`? What are the data types of each column?"
   ]
  },
  {
   "cell_type": "code",
   "execution_count": null,
   "id": "a37bc4de",
   "metadata": {
    "scrolled": false
   },
   "outputs": [],
   "source": [
    "gdp_df.info()"
   ]
  },
  {
   "cell_type": "markdown",
   "id": "f6be56ad",
   "metadata": {},
   "source": [
    "**6.** Drop the `Value Footnotes` column and rename the remaining three to `Country`, `Year`, and `GDP_Per_Capita`."
   ]
  },
  {
   "cell_type": "code",
   "execution_count": null,
   "id": "79e0d2a0",
   "metadata": {
    "scrolled": true
   },
   "outputs": [],
   "source": [
    "del gdp_df['Value Footnotes']\n",
    "gdp_df.rename(columns = {'Country or Area':'Country', 'Value':'GDP_Per_Capita'}, inplace = True)\n",
    "#Check\n",
    "gdp_df.head()"
   ]
  },
  {
   "cell_type": "markdown",
   "id": "1fbbcaba",
   "metadata": {},
   "source": [
    "**7.** How many countries have data for all years? Which countries are missing many years of data? Look at the number of observations per year. What do you notice? "
   ]
  },
  {
   "cell_type": "code",
   "execution_count": null,
   "id": "065fb898",
   "metadata": {},
   "outputs": [],
   "source": [
    "unique_years = pd.DataFrame(gdp_df.groupby(['Country'])['Year'].count())\n",
    "unique_years.reset_index(inplace=True)"
   ]
  },
  {
   "cell_type": "code",
   "execution_count": null,
   "id": "5f7d1051",
   "metadata": {},
   "outputs": [],
   "source": [
    "# Countries with data for all years\n",
    "unique_years[unique_years['Year']==33].count()"
   ]
  },
  {
   "cell_type": "code",
   "execution_count": null,
   "id": "a0f810e9",
   "metadata": {},
   "outputs": [],
   "source": [
    "# Countries missing data\n",
    "unique_years[unique_years['Year']!=33].sort_values(['Year'])"
   ]
  },
  {
   "cell_type": "markdown",
   "id": "d7c89df5",
   "metadata": {},
   "source": [
    "**Answer:** There are 202 countries with data for all years."
   ]
  },
  {
   "cell_type": "markdown",
   "id": "e91bcf22",
   "metadata": {},
   "source": [
    "**8.** In this question, you're going to create some plots to show the distribution of GDP per capita for the year 2020. Go to the Python Graph Gallery (https://www.python-graph-gallery.com/) and look at the different types of plots under the Distribution section. Create a histogram, a density plot, a boxplot, and a violin plot. What do you notice when you look at these plots? How do the plots compare and what information can you get out of one type that you can't necessarily get out of the others?"
   ]
  },
  {
   "cell_type": "code",
   "execution_count": null,
   "id": "8063e912",
   "metadata": {},
   "outputs": [],
   "source": [
    "gdp_2020 = gdp_df[gdp_df['Year']==2020]"
   ]
  },
  {
   "cell_type": "code",
   "execution_count": null,
   "id": "6b74a486",
   "metadata": {},
   "outputs": [],
   "source": [
    "#histogram\n",
    "sns.displot(x=gdp_2020['GDP_Per_Capita']);"
   ]
  },
  {
   "cell_type": "code",
   "execution_count": null,
   "id": "19c4d787",
   "metadata": {},
   "outputs": [],
   "source": [
    "#densityplot\n",
    "sns.kdeplot(gdp_2020['GDP_Per_Capita'])"
   ]
  },
  {
   "cell_type": "code",
   "execution_count": null,
   "id": "048c1bda",
   "metadata": {},
   "outputs": [],
   "source": [
    "#boxplot\n",
    "sns.boxplot(x=gdp_2020['Year'], y=gdp_2020['GDP_Per_Capita'])"
   ]
  },
  {
   "cell_type": "code",
   "execution_count": null,
   "id": "2189c7f3",
   "metadata": {
    "scrolled": true
   },
   "outputs": [],
   "source": [
    "#violinplot\n",
    "sns.violinplot(x=gdp_2020['Year'], y=gdp_2020['GDP_Per_Capita'])"
   ]
  },
  {
   "cell_type": "markdown",
   "id": "4431581d",
   "metadata": {},
   "source": [
    "**Answer:**\n",
    "- The majority of countries appear to have a GDP per capita somewhere in the realm of \\\\$10,000, with a very small subset having a GDP per capita greater than \\\\$60,000. Interestingly, there are also some negative values.\n",
    "- As for chart types, while the histogram and density plots probably look more familiar to most people, I think the violin plot does the best job of illustrating that the distribution of GDP is skewed toward the bottom of the range. I don't think a box plot would be the best choice to answer this question because it just presents everything as an outlier, and that's not really the point here."
   ]
  },
  {
   "cell_type": "markdown",
   "id": "01be7d38",
   "metadata": {},
   "source": [
    "**9.** What was the median GDP per capita value in 2020?"
   ]
  },
  {
   "cell_type": "code",
   "execution_count": null,
   "id": "4432868a",
   "metadata": {},
   "outputs": [],
   "source": [
    "median_gdp_2020 = gdp_2020['GDP_Per_Capita'].agg('median')\n",
    "print(median_gdp_2020)"
   ]
  },
  {
   "cell_type": "markdown",
   "id": "931a1865",
   "metadata": {},
   "source": [
    "**Answer:** $13.358.00"
   ]
  },
  {
   "cell_type": "markdown",
   "id": "e67951e5",
   "metadata": {},
   "source": [
    "**10.** For this question, you're going to create some visualizations to compare GDP per capita values for the years 1990, 2000, 2010, and 2020. Start by subsetting your data to just these 4 years into a new DataFrame named gdp_decades. Using this, create the following 4 plots:\n",
    "- A boxplot\n",
    "- A barplot (check out the Barplot with Seaborn section: https://www.python-graph-gallery.com/barplot/#Seaborn)\n",
    "- A scatterplot\n",
    "- A scatterplot with a trend line overlaid (see this regplot example: https://www.python-graph-gallery.com/42-custom-linear-regression-fit-seaborn)\n",
    "\n",
    "Comment on what you observe has happened to GDP values over time and the relative strengths and weaknesses of each type of plot."
   ]
  },
  {
   "cell_type": "code",
   "execution_count": null,
   "id": "5d2f417e",
   "metadata": {},
   "outputs": [],
   "source": [
    "gdp_decades = gdp_df[gdp_df['Year'].isin([1990, 2000, 2010, 2020])]"
   ]
  },
  {
   "cell_type": "code",
   "execution_count": null,
   "id": "a7f1ddd1",
   "metadata": {},
   "outputs": [],
   "source": [
    "#boxplot\n",
    "sns.boxplot(x=gdp_decades['Year'], y=gdp_decades['GDP_Per_Capita'])"
   ]
  },
  {
   "cell_type": "code",
   "execution_count": null,
   "id": "aa14765c",
   "metadata": {},
   "outputs": [],
   "source": [
    "#barplot\n",
    "sns.barplot(x='Year', y='GDP_Per_Capita', data=gdp_decades)"
   ]
  },
  {
   "cell_type": "code",
   "execution_count": null,
   "id": "481e3b02",
   "metadata": {},
   "outputs": [],
   "source": [
    "#scatterplot\n",
    "sns.regplot(x=gdp_decades['Year'], y=gdp_decades['GDP_Per_Capita'], fit_reg=False)"
   ]
  },
  {
   "cell_type": "code",
   "execution_count": null,
   "id": "e751568d",
   "metadata": {},
   "outputs": [],
   "source": [
    "#scatterplot with trend line\n",
    "sns.regplot(x=gdp_decades['Year'], y=gdp_decades['GDP_Per_Capita'], line_kws={\"color\":\"r\",\"alpha\":0.7,\"lw\":5})"
   ]
  },
  {
   "cell_type": "markdown",
   "id": "4d30f3bf",
   "metadata": {},
   "source": [
    "**Answer:** Generally, GDP per capita has increased over time. This is most evident in either the bar plot or the trend line on the scatter plot, although a scatter plot is probably not an appropriate choice to illustrate this data."
   ]
  },
  {
   "cell_type": "markdown",
   "id": "0455e7b9",
   "metadata": {},
   "source": [
    "**11.** Which country was the first to have a GDP per capita greater than $100,000?"
   ]
  },
  {
   "cell_type": "code",
   "execution_count": null,
   "id": "29f73111",
   "metadata": {},
   "outputs": [],
   "source": [
    "gdp_100k = gdp_df[gdp_df['GDP_Per_Capita']>=100000]\n",
    "gdp_first_to_100k = gdp_100k[gdp_100k['Year'] == gdp_100k['Year'].agg('min')]\n",
    "gdp_first_to_100k"
   ]
  },
  {
   "cell_type": "markdown",
   "id": "ac648759",
   "metadata": {},
   "source": [
    "**Answer:** The UAE was the first to reach $100,000 GDP per capita in 1990."
   ]
  },
  {
   "cell_type": "markdown",
   "id": "3a2c6c15",
   "metadata": {},
   "source": [
    "**12.** Which country had the highest GDP per capita in 2020? Create a plot showing how this country's GDP per capita has changed over the timespan of the dataset."
   ]
  },
  {
   "cell_type": "code",
   "execution_count": null,
   "id": "35464f01",
   "metadata": {},
   "outputs": [],
   "source": [
    "# First, find the highest GDP per capita in 2020.\n",
    "max_gdp_2020 = gdp_2020[gdp_2020['GDP_Per_Capita'] == gdp_2020['GDP_Per_Capita'].agg('max')]\n",
    "max_gdp_2020"
   ]
  },
  {
   "cell_type": "code",
   "execution_count": null,
   "id": "6e5f4c01",
   "metadata": {},
   "outputs": [],
   "source": [
    "# It's Luxembourg. Now plot GDP per capita over time for Luxembourg.\n",
    "gdp_lx = gdp_df[gdp_df['Country'] == 'Luxembourg']\n",
    "gdp_lx.plot.line('Year', 'GDP_Per_Capita')"
   ]
  },
  {
   "cell_type": "markdown",
   "id": "e46df14f",
   "metadata": {},
   "source": [
    "**13.** Which country had the lowest GDP per capita in 2020? Create a plot showing how this country's GDP per capita has changed over the timespan of the dataset."
   ]
  },
  {
   "cell_type": "code",
   "execution_count": null,
   "id": "85a2f535",
   "metadata": {},
   "outputs": [],
   "source": [
    "# First, find the lowest GDP per capita in 2020.\n",
    "min_gdp_2020 = gdp_2020[gdp_2020['GDP_Per_Capita'] == gdp_2020['GDP_Per_Capita'].agg('min')]\n",
    "print(min_gdp_2020)"
   ]
  },
  {
   "cell_type": "code",
   "execution_count": null,
   "id": "c9b64f6c",
   "metadata": {
    "scrolled": true
   },
   "outputs": [],
   "source": [
    "# It's Burundi. Now plot GDP per capita over time for Burundi.\n",
    "gdp_br = gdp_df[gdp_df['Country'] == 'Burundi']\n",
    "gdp_br.plot.line('Year', 'GDP_Per_Capita')"
   ]
  },
  {
   "cell_type": "markdown",
   "id": "05cbd6b5",
   "metadata": {},
   "source": [
    "**14.** Read in the internet use dataset into a DataFrame named `internet_df`. You will likely get errors when doing this. Check the arguments for the `read_csv` function to find ones that can help correct the errors (https://pandas.pydata.org/docs/reference/api/pandas.read_csv.html) Once you are able to read it in, take per a look at the top and bottom few rows to make sure that it has been read in correctly. Also, check the datatypes of the columns."
   ]
  },
  {
   "cell_type": "code",
   "execution_count": null,
   "id": "2898dbba",
   "metadata": {},
   "outputs": [],
   "source": [
    "internet_df = pd.read_csv('../data/internet_use.csv', nrows = 4495)\n",
    "internet_df"
   ]
  },
  {
   "cell_type": "code",
   "execution_count": null,
   "id": "271cc9af",
   "metadata": {},
   "outputs": [],
   "source": [
    "internet_df.info()"
   ]
  },
  {
   "cell_type": "markdown",
   "id": "e488dc8d",
   "metadata": {},
   "source": [
    "**15.** Drop the `Value Footnotes` column and rename the remaining three to `Country`, `Year`, and `Internet_Users_Pct`."
   ]
  },
  {
   "cell_type": "code",
   "execution_count": null,
   "id": "8d0ebc3b",
   "metadata": {},
   "outputs": [],
   "source": [
    "del internet_df['Value Footnotes']\n",
    "internet_df.rename(columns = {'Country or Area':'Country', 'Value':'Internet_Users_Pct'}, inplace = True)\n",
    "# Check\n",
    "internet_df.head()"
   ]
  },
  {
   "cell_type": "markdown",
   "id": "ebc2a4a6",
   "metadata": {},
   "source": [
    "**16.** Look at the number of observations in this dataset per year. What do you notice?"
   ]
  },
  {
   "cell_type": "code",
   "execution_count": null,
   "id": "51ffc3de",
   "metadata": {},
   "outputs": [],
   "source": [
    "yearly_observations=pd.DataFrame(internet_df['Year'].value_counts(sort=False))\n",
    "yearly_observations"
   ]
  },
  {
   "cell_type": "markdown",
   "id": "b70fef0c",
   "metadata": {},
   "source": [
    "**Answer:** The number of observations increases sharply through the 90s and remains  stable after the new millenium."
   ]
  },
  {
   "cell_type": "markdown",
   "id": "89f7d335",
   "metadata": {},
   "source": [
    "**17.** What is the first year to have a non-zero internet users percentage value?"
   ]
  },
  {
   "cell_type": "code",
   "execution_count": null,
   "id": "1775e6b7",
   "metadata": {},
   "outputs": [],
   "source": [
    "nonzero_internet_observation = internet_df[internet_df['Internet_Users_Pct']>0]\n",
    "first_internet_observation = nonzero_internet_observation[nonzero_internet_observation['Year'] == nonzero_internet_observation['Year'].agg('min')]\n",
    "first_internet_observation"
   ]
  },
  {
   "cell_type": "markdown",
   "id": "720673a9",
   "metadata": {},
   "source": [
    "**Answer:** The first non-zero internet users percentages were recorded in 1990."
   ]
  },
  {
   "cell_type": "markdown",
   "id": "c8baec5d",
   "metadata": {},
   "source": [
    "**18.** How does the distribution of internet users percent differ for 2000 and 2014?"
   ]
  },
  {
   "cell_type": "code",
   "execution_count": null,
   "id": "c1872641",
   "metadata": {},
   "outputs": [],
   "source": [
    "internet_2000 = internet_df[internet_df['Year'] == 2000]\n",
    "internet_2014 = internet_df[internet_df['Year'] == 2014]\n",
    "sns.histplot(data=internet_2000, x=\"Internet_Users_Pct\", color=\"skyblue\", label=\"Internet Use 2000\", kde=True)\n",
    "sns.histplot(data=internet_2014, x=\"Internet_Users_Pct\", color=\"red\", label=\"Internet Use 2014\", kde=True)\n",
    "plt.show()"
   ]
  },
  {
   "cell_type": "markdown",
   "id": "b99416b0",
   "metadata": {},
   "source": [
    "**Answer:** A large majority of countries saw little to no internet use in 2000, with the highest usage percentages in that year topping out at below 60%. By 2014, internet usage had become much more widespread, with a much more even distribution across all percentages."
   ]
  },
  {
   "cell_type": "markdown",
   "id": "2cf3cc1d",
   "metadata": {},
   "source": [
    "**19.** For how many countries was the percentage of internet users below 5% in 2014?"
   ]
  },
  {
   "cell_type": "code",
   "execution_count": null,
   "id": "009c7780",
   "metadata": {},
   "outputs": [],
   "source": [
    "under_5pct_usage_2014 = pd.DataFrame(internet_2014[internet_2014['Internet_Users_Pct'] < 5.0].count())\n",
    "under_5pct_usage_2014"
   ]
  },
  {
   "cell_type": "markdown",
   "id": "0018f101",
   "metadata": {},
   "source": [
    "**Answer:** In 2014, the percentage of internet users was below 5% in 16 countries."
   ]
  },
  {
   "cell_type": "markdown",
   "id": "20583d76",
   "metadata": {},
   "source": [
    "**20.** Merge the two DataFrames to one. Do this in a way that keeps **all rows** from each of the two DataFrames. Call the new DataFrame `gdp_and_internet_use`. Look at the first and last few rows to confirm that it merged correctly."
   ]
  },
  {
   "cell_type": "code",
   "execution_count": null,
   "id": "67a5cbd4",
   "metadata": {},
   "outputs": [],
   "source": [
    "gdp_and_internet_use = pd.merge(gdp_df, internet_df, how='left')\n",
    "gdp_and_internet_use"
   ]
  },
  {
   "cell_type": "markdown",
   "id": "d725e129",
   "metadata": {},
   "source": [
    "**21.** Find the three countries with the highest internet users percentage in 2014. Use a seaborn FacetGrid (https://seaborn.pydata.org/generated/seaborn.FacetGrid.html) to compare how the GDP per capita has changed over time for these three countries. What do you notice?"
   ]
  },
  {
   "cell_type": "code",
   "execution_count": null,
   "id": "80681e18",
   "metadata": {},
   "outputs": [],
   "source": [
    "max_internet_2014 = internet_2014.sort_values(['Internet_Users_Pct'], ascending=False)\n",
    "max_internet_2014.head()"
   ]
  },
  {
   "cell_type": "code",
   "execution_count": null,
   "id": "1a615b8c",
   "metadata": {},
   "outputs": [],
   "source": [
    "# The top 3 for 2014 are Iceland, Bermuda, and Norway.\n",
    "gdp_over_time = gdp_df[gdp_df['Country'].isin(['Iceland', 'Bermuda', 'Norway'])]\n",
    "grid=sns.FacetGrid(gdp_over_time, col='Country')\n",
    "grid.map(sns.lineplot, 'Year', 'GDP_Per_Capita')"
   ]
  },
  {
   "cell_type": "markdown",
   "id": "bbeb8812",
   "metadata": {},
   "source": [
    "**Answer:** While Iceland and Norway have slowly and steadily increased their GDP per capita over eth years studied, Bermuda had a rapid rise in the early 2000s, followed by a decline that stabilized around 2015. However, over the entire study period, all three countries have seen a general increase in GDP per capita."
   ]
  },
  {
   "cell_type": "markdown",
   "id": "003b816a",
   "metadata": {},
   "source": [
    "**22.** Subset `gdp_and_internet_use` to just the year 2014. Save this as a new dataframe named `gdp_and_internet_use_2014`."
   ]
  },
  {
   "cell_type": "code",
   "execution_count": null,
   "id": "b2bf6bbe",
   "metadata": {},
   "outputs": [],
   "source": [
    "gdp_and_internet_use_2014 = gdp_and_internet_use[gdp_and_internet_use['Year']==2014]\n",
    "gdp_and_internet_use_2014"
   ]
  },
  {
   "cell_type": "markdown",
   "id": "3f9458d8",
   "metadata": {},
   "source": [
    "**23.** Create a plot which compares Internet Users Percentage and GDP per Capita for the year 2014. What do you notice from this plot? If you see any unusual points, investigate them."
   ]
  },
  {
   "cell_type": "code",
   "execution_count": null,
   "id": "9d3add85",
   "metadata": {},
   "outputs": [],
   "source": [
    "sns.lineplot(data=gdp_and_internet_use_2014, x='Internet_Users_Pct', y='GDP_Per_Capita')\n",
    "plt.show()"
   ]
  },
  {
   "cell_type": "markdown",
   "id": "4d79e8a9",
   "metadata": {},
   "source": [
    "**Answer:** As expetced, in general countries with a higher GDP per capita have more access to the internet. However, after around 75% for internet usage, GDP varies significantly."
   ]
  },
  {
   "cell_type": "markdown",
   "id": "46530edc",
   "metadata": {},
   "source": [
    "**24. (Stretch Question)** Use the `qcut` function from pandas (https://pandas.pydata.org/docs/reference/api/pandas.qcut.html) to divide countries in `gdp_per_capita_2014` into three groups based on their GDP per capita values. Label these groups as `Low`, `Medium`, and `High`. Put these labels in a new column, named `GDP_group`."
   ]
  },
  {
   "cell_type": "code",
   "execution_count": null,
   "id": "44491923",
   "metadata": {},
   "outputs": [],
   "source": [
    "# The first line prevents a warning about \"setting a value on a copy of a slice frmo a DataFrame\"...\n",
    "gdp_per_capita_2014.is_copy = False\n",
    "gdp_per_capita_2014 = gdp_and_internet_use_2014\n",
    "gdp_per_capita_2014['GDP_group'] = pd.qcut(gdp_per_capita_2014['GDP_Per_Capita'], q=3, labels=['Low', 'Medium', 'High'])\n",
    "gdp_per_capita_2014.head()"
   ]
  },
  {
   "cell_type": "markdown",
   "id": "bd7f9c5a",
   "metadata": {},
   "source": [
    "**25. (Stretch Question)** How does the median internet users percentage compare for the three gdp groups?"
   ]
  },
  {
   "cell_type": "code",
   "execution_count": null,
   "id": "7e48efd1",
   "metadata": {},
   "outputs": [],
   "source": [
    "gdp_per_capita_2014.groupby(['GDP_group'])['Internet_Users_Pct'].median()"
   ]
  },
  {
   "cell_type": "markdown",
   "id": "8413eb1f",
   "metadata": {},
   "source": [
    "**Answer:** There is a much bigger disparity between the low-GDP countries and the medium-GDP countries, than there is between medium-GDP countries and high-GDP countries."
   ]
  }
 ],
 "metadata": {
  "kernelspec": {
   "display_name": "Python 3 (ipykernel)",
   "language": "python",
   "name": "python3"
  },
  "language_info": {
   "codemirror_mode": {
    "name": "ipython",
    "version": 3
   },
   "file_extension": ".py",
   "mimetype": "text/x-python",
   "name": "python",
   "nbconvert_exporter": "python",
   "pygments_lexer": "ipython3",
   "version": "3.11.5"
  }
 },
 "nbformat": 4,
 "nbformat_minor": 5
}
