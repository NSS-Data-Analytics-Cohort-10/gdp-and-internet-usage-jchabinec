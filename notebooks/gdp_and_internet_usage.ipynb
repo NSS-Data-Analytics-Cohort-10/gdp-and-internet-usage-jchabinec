{
 "cells": [
  {
   "cell_type": "markdown",
   "id": "c90a0521",
   "metadata": {},
   "source": [
    "Import pandas, numpy, pyplot, and seaborn."
   ]
  },
  {
   "cell_type": "code",
   "execution_count": null,
   "id": "c1e12063",
   "metadata": {},
   "outputs": [],
   "source": [
    "import pandas as pd  \n",
    "import numpy as np\n",
    "import matplotlib.pyplot as plt\n",
    "import seaborn as sns"
   ]
  },
  {
   "cell_type": "markdown",
   "id": "9a420ea1",
   "metadata": {},
   "source": [
    "Read in the GDP dataset and look at the first few rows."
   ]
  },
  {
   "cell_type": "code",
   "execution_count": null,
   "id": "972f130b",
   "metadata": {},
   "outputs": [],
   "source": [
    "gdp_df = pd.read_csv('../data/gdp_percapita.csv')\n",
    "print(gdp_df.head())"
   ]
  },
  {
   "cell_type": "markdown",
   "id": "fe4394e8",
   "metadata": {},
   "source": [
    "How many rows and columns are in `gdp_df`? What are the data types of each column?"
   ]
  },
  {
   "cell_type": "code",
   "execution_count": null,
   "id": "17502dc4",
   "metadata": {
    "scrolled": true
   },
   "outputs": [],
   "source": [
    "print(gdp_df.info())"
   ]
  },
  {
   "cell_type": "raw",
   "id": "3059a5f3",
   "metadata": {},
   "source": [
    "Drop the `Value Footnotes` column and rename the remaining three to 'Country', 'Year', and 'GDP_Per_Capita'."
   ]
  },
  {
   "cell_type": "code",
   "execution_count": null,
   "id": "b03b06d7",
   "metadata": {},
   "outputs": [],
   "source": [
    "del gdp_df['Value Footnotes']\n",
    "gdp_df.rename(columns = {'Country or Area':'Country', 'Value':'GDP_Per_Capita'}, inplace = True)\n",
    "print(gdp_df.head())"
   ]
  },
  {
   "cell_type": "markdown",
   "id": "e52be392",
   "metadata": {},
   "source": [
    "How many countries have data for all years? Which countries are missing many years of data? Look at the number of observations per year. What do you notice? "
   ]
  },
  {
   "cell_type": "code",
   "execution_count": null,
   "id": "7a5552a7",
   "metadata": {},
   "outputs": [],
   "source": []
  }
 ],
 "metadata": {
  "kernelspec": {
   "display_name": "Python 3 (ipykernel)",
   "language": "python",
   "name": "python3"
  },
  "language_info": {
   "codemirror_mode": {
    "name": "ipython",
    "version": 3
   },
   "file_extension": ".py",
   "mimetype": "text/x-python",
   "name": "python",
   "nbconvert_exporter": "python",
   "pygments_lexer": "ipython3",
   "version": "3.11.5"
  }
 },
 "nbformat": 4,
 "nbformat_minor": 5
}
