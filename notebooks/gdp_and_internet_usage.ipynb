{
 "cells": [
  {
   "cell_type": "markdown",
   "id": "461acdaa",
   "metadata": {},
   "source": [
    "Import pandas, numpy, pyplot, and seaborn."
   ]
  },
  {
   "cell_type": "code",
   "execution_count": 1,
   "id": "734bad61",
   "metadata": {},
   "outputs": [],
   "source": [
    "import pandas as pd  \n",
    "import numpy as np\n",
    "import matplotlib.pyplot as plt\n",
    "import seaborn as sns"
   ]
  },
  {
   "cell_type": "markdown",
   "id": "d983ab71",
   "metadata": {},
   "source": [
    "Read in the GDP dataset and look at the first few rows."
   ]
  },
  {
   "cell_type": "code",
   "execution_count": 2,
   "id": "045cf00e",
   "metadata": {},
   "outputs": [
    {
     "name": "stdout",
     "output_type": "stream",
     "text": [
      "  Country or Area  Year        Value  Value Footnotes\n",
      "0     Afghanistan  2021  1517.016266              NaN\n",
      "1     Afghanistan  2020  1968.341002              NaN\n",
      "2     Afghanistan  2019  2079.921861              NaN\n",
      "3     Afghanistan  2018  2060.698973              NaN\n",
      "4     Afghanistan  2017  2096.093111              NaN\n"
     ]
    }
   ],
   "source": [
    "gdp_df = pd.read_csv('../data/gdp_percapita.csv')\n",
    "print(gdp_df.head())"
   ]
  },
  {
   "cell_type": "markdown",
   "id": "b890f11d",
   "metadata": {},
   "source": [
    "How many rows and columns are in `gdp_df`? What are the data types of each column?"
   ]
  },
  {
   "cell_type": "code",
   "execution_count": 3,
   "id": "a37bc4de",
   "metadata": {
    "scrolled": true
   },
   "outputs": [
    {
     "name": "stdout",
     "output_type": "stream",
     "text": [
      "<class 'pandas.core.frame.DataFrame'>\n",
      "RangeIndex: 7662 entries, 0 to 7661\n",
      "Data columns (total 4 columns):\n",
      " #   Column           Non-Null Count  Dtype  \n",
      "---  ------           --------------  -----  \n",
      " 0   Country or Area  7662 non-null   object \n",
      " 1   Year             7662 non-null   int64  \n",
      " 2   Value            7662 non-null   float64\n",
      " 3   Value Footnotes  0 non-null      float64\n",
      "dtypes: float64(2), int64(1), object(1)\n",
      "memory usage: 239.6+ KB\n",
      "None\n"
     ]
    }
   ],
   "source": [
    "print(gdp_df.info())"
   ]
  },
  {
   "cell_type": "raw",
   "id": "10c0b48c",
   "metadata": {},
   "source": [
    "Drop the `Value Footnotes` column and rename the remaining three to 'Country', 'Year', and 'GDP_Per_Capita'."
   ]
  },
  {
   "cell_type": "code",
   "execution_count": 4,
   "id": "79e0d2a0",
   "metadata": {},
   "outputs": [
    {
     "name": "stdout",
     "output_type": "stream",
     "text": [
      "       Country  Year  GDP_Per_Capita\n",
      "0  Afghanistan  2021     1517.016266\n",
      "1  Afghanistan  2020     1968.341002\n",
      "2  Afghanistan  2019     2079.921861\n",
      "3  Afghanistan  2018     2060.698973\n",
      "4  Afghanistan  2017     2096.093111\n"
     ]
    }
   ],
   "source": [
    "del gdp_df['Value Footnotes']\n",
    "gdp_df.rename(columns = {'Country or Area':'Country', 'Value':'GDP_Per_Capita'}, inplace = True)\n",
    "print(gdp_df.head())"
   ]
  },
  {
   "cell_type": "markdown",
   "id": "1fbbcaba",
   "metadata": {},
   "source": [
    "How many countries have data for all years? Which countries are missing many years of data? Look at the number of observations per year. What do you notice? "
   ]
  },
  {
   "cell_type": "code",
   "execution_count": 5,
   "id": "065fb898",
   "metadata": {},
   "outputs": [
    {
     "name": "stdout",
     "output_type": "stream",
     "text": [
      "                         Country  Year\n",
      "1    Africa Eastern and Southern    33\n",
      "2     Africa Western and Central    33\n",
      "3                        Albania    33\n",
      "4                        Algeria    33\n",
      "5                         Angola    33\n",
      "..                           ...   ...\n",
      "236                      Vanuatu    33\n",
      "237                     Viet Nam    33\n",
      "239                        World    33\n",
      "240                       Zambia    33\n",
      "241                     Zimbabwe    33\n",
      "\n",
      "[202 rows x 2 columns]\n",
      "                       Country  Year\n",
      "0                  Afghanistan    20\n",
      "10                       Aruba    32\n",
      "22                      Bhutan    32\n",
      "24      Bosnia and Herzegovina    29\n",
      "32                    Cambodia    30\n",
      "36              Cayman Islands    16\n",
      "46                     Croatia    28\n",
      "47                    CuraÃ§ao    22\n",
      "53                    Djibouti    10\n",
      "64                     Estonia    28\n",
      "91                     Hungary    32\n",
      "97                     Iceland    28\n",
      "103                     Israel    28\n",
      "112                     Kosovo    15\n",
      "113                     Kuwait    31\n",
      "120                     Latvia    28\n",
      "122                    Lebanon    32\n",
      "124                    Liberia    23\n",
      "125                      Libya    24\n",
      "126                  Lithuania    28\n",
      "135                   Maldives    28\n",
      "147                    Moldova    28\n",
      "149                 Montenegro    26\n",
      "154                      Nauru    19\n",
      "166         Other small states    23\n",
      "169                      Palau    22\n",
      "180                      Qatar    23\n",
      "185                 San Marino    25\n",
      "188                     Serbia    28\n",
      "192  Sint Maarten (Dutch part)    14\n",
      "193            Slovak Republic    31\n",
      "194                   Slovenia    28\n",
      "195               Small states    26\n",
      "197                    Somalia    10\n",
      "213    SÃ£o TomÃ© and Principe    22\n",
      "219                Timor-Leste    23\n",
      "221                      Tonga    32\n",
      "224               Turkmenistan    31\n",
      "225   Turks and Caicos Islands    12\n",
      "238         West Bank and Gaza    29\n"
     ]
    }
   ],
   "source": [
    "unique_years = pd.DataFrame(gdp_df.groupby(['Country'])['Year'].count())\n",
    "unique_years.reset_index(inplace=True)\n",
    "print(unique_years[unique_years['Year']==33])\n",
    "print(unique_years[unique_years['Year']!=33])"
   ]
  },
  {
   "cell_type": "markdown",
   "id": "f3c2c396",
   "metadata": {},
   "source": [
    "In this question, you're going to create some plots to show the distribution of GDP per capita for the year 2020. Go to the Python Graph Gallery (https://www.python-graph-gallery.com/) and look at the different types of plots under the Distribution section. Create a histogram, a density plot, a boxplot, and a violin plot. What do you notice when you look at these plots? How do the plots compare and what information can you get out of one type that you can't necessarily get out of the others?"
   ]
  },
  {
   "cell_type": "code",
   "execution_count": null,
   "id": "d6643e72",
   "metadata": {},
   "outputs": [],
   "source": []
  }
 ],
 "metadata": {
  "kernelspec": {
   "display_name": "Python 3 (ipykernel)",
   "language": "python",
   "name": "python3"
  },
  "language_info": {
   "codemirror_mode": {
    "name": "ipython",
    "version": 3
   },
   "file_extension": ".py",
   "mimetype": "text/x-python",
   "name": "python",
   "nbconvert_exporter": "python",
   "pygments_lexer": "ipython3",
   "version": "3.11.5"
  }
 },
 "nbformat": 4,
 "nbformat_minor": 5
}
